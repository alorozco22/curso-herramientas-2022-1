{
 "cells": [
  {
   "cell_type": "markdown",
   "metadata": {},
   "source": [
    "# Unión de bases de datos"
   ]
  },
  {
   "cell_type": "code",
   "execution_count": 13,
   "metadata": {},
   "outputs": [],
   "source": [
    "import pandas as pd\n",
    "import numpy as np"
   ]
  },
  {
   "cell_type": "markdown",
   "metadata": {},
   "source": [
    "## 1. Append"
   ]
  },
  {
   "cell_type": "code",
   "execution_count": 20,
   "metadata": {},
   "outputs": [
    {
     "name": "stdout",
     "output_type": "stream",
     "text": [
      "         DIRECTORIO  SECUENCIA_P       ORDEN  Horas adicionales    RAMA_CIIU  \\\n",
      "count  1.000000e+02        100.0  100.000000           9.000000   100.000000   \n",
      "mean   5.392875e+06          1.0    1.960000          26.000000  6117.060000   \n",
      "std    5.962018e+01          0.0    1.294276          11.313708  2064.197126   \n",
      "min    5.392695e+06          1.0    1.000000          10.000000   141.000000   \n",
      "25%    5.392866e+06          1.0    1.000000          20.000000  4711.000000   \n",
      "50%    5.392886e+06          1.0    1.500000          24.000000  5612.000000   \n",
      "75%    5.392911e+06          1.0    2.000000          24.000000  8412.250000   \n",
      "max    5.392931e+06          1.0    7.000000          48.000000  9700.000000   \n",
      "\n",
      "           Ingresos  \n",
      "count  9.500000e+01  \n",
      "mean   9.911806e+05  \n",
      "std    8.429334e+05  \n",
      "min    3.000000e+04  \n",
      "25%    4.000000e+05  \n",
      "50%    8.000000e+05  \n",
      "75%    1.250000e+06  \n",
      "max    4.500000e+06  \n"
     ]
    }
   ],
   "source": [
    "# Definir las bases\n",
    "\n",
    "# los siguientes datos correspoden a la Gran Encuesta Integrada de Hogares (GEIH) para marzo de 2021.\n",
    "\n",
    "#Ocupados en áreas\n",
    "ocupados_area = pd.read_excel ('C:/Users/VEW0102/Universidad de los Andes/Alfredo Eleazar Orozco Quesada - Curso Programación para datos EdContinua/Clases/Implementación/Clase 10 - Unión de bases de datos/GEIH_ocupados_área.xls')\n",
    "\n",
    "#print(ocupados_area.head(2))\n",
    "#print(ocupados_area.shape)\n",
    "#ocupados_area['DIRECTORIO'].nunique()\n",
    "print (ocupados_area.describe())"
   ]
  },
  {
   "cell_type": "code",
   "execution_count": 21,
   "metadata": {},
   "outputs": [
    {
     "name": "stdout",
     "output_type": "stream",
     "text": [
      "   DIRECTORIO  SECUENCIA_P  ORDEN  Horas adicionales Cambia_trab  RAMA_CIIU  \\\n",
      "0     5392695            1      1               20.0          No       6910   \n",
      "1     5392696            1      1                NaN          No       4111   \n",
      "2     5392696            1      3                NaN          No       8610   \n",
      "3     5392697            1      1                NaN          No       8424   \n",
      "4     5392699            1      1                NaN          No       2592   \n",
      "\n",
      "    Ingresos lugar  \n",
      "0  2000000.0  Área  \n",
      "1  2000000.0  Área  \n",
      "2  1700000.0  Área  \n",
      "3  2800000.0  Área  \n",
      "4   969526.0  Área  \n"
     ]
    }
   ],
   "source": [
    "ocupados_area['lugar']='Área'\n",
    "print(ocupados_area.head())"
   ]
  },
  {
   "cell_type": "code",
   "execution_count": 23,
   "metadata": {},
   "outputs": [
    {
     "name": "stdout",
     "output_type": "stream",
     "text": [
      "   DIRECTORIO  SECUENCIA_P  ORDEN  Horas adicionales Cambia_trab  RAMA_CIIU  \\\n",
      "0     5392574            1      3                NaN          No       5621   \n",
      "1     5392578            1      1                NaN          No       8692   \n",
      "2     5392578            1      2                NaN          No       4520   \n",
      "3     5392579            1      1                NaN          No       8422   \n",
      "4     5392579            1      2                NaN          No       5012   \n",
      "\n",
      "    Ingresos  \n",
      "0  1000000.0  \n",
      "1   800000.0  \n",
      "2   700000.0  \n",
      "3        NaN  \n",
      "4  1200000.0  \n",
      "(100, 7)\n"
     ]
    },
    {
     "data": {
      "text/plain": [
       "75"
      ]
     },
     "execution_count": 23,
     "metadata": {},
     "output_type": "execute_result"
    }
   ],
   "source": [
    "#Ocupados en cabecera\n",
    "ocupados_cabecera = pd.read_excel ('C:/Users/VEW0102/Universidad de los Andes/Alfredo Eleazar Orozco Quesada - Curso Programación para datos EdContinua/Clases/Implementación/Clase 10 - Unión de bases de datos/GEIH_ocupados_cabecera.xls')\n",
    "print(ocupados_cabecera.head(5))\n",
    "print(ocupados_cabecera.shape)\n",
    "ocupados_cabecera['DIRECTORIO'].nunique()"
   ]
  },
  {
   "cell_type": "code",
   "execution_count": 24,
   "metadata": {},
   "outputs": [
    {
     "name": "stdout",
     "output_type": "stream",
     "text": [
      "   DIRECTORIO  SECUENCIA_P  ORDEN  Horas adicionales Cambia_trab  RAMA_CIIU  \\\n",
      "0     5392574            1      3                NaN          No       5621   \n",
      "1     5392578            1      1                NaN          No       8692   \n",
      "2     5392578            1      2                NaN          No       4520   \n",
      "3     5392579            1      1                NaN          No       8422   \n",
      "4     5392579            1      2                NaN          No       5012   \n",
      "\n",
      "    Ingresos     lugar  \n",
      "0  1000000.0  Cabecera  \n",
      "1   800000.0  Cabecera  \n",
      "2   700000.0  Cabecera  \n",
      "3        NaN  Cabecera  \n",
      "4  1200000.0  Cabecera  \n"
     ]
    }
   ],
   "source": [
    "ocupados_cabecera['lugar']='Cabecera'\n",
    "print(ocupados_cabecera.head())"
   ]
  },
  {
   "cell_type": "code",
   "execution_count": 25,
   "metadata": {},
   "outputs": [
    {
     "name": "stdout",
     "output_type": "stream",
     "text": [
      "   DIRECTORIO  SECUENCIA_P  ORDEN  Horas adicionales Cambia_trab  RAMA_CIIU  \\\n",
      "0     5392695            1      1               20.0          No       6910   \n",
      "1     5392696            1      1                NaN          No       4111   \n",
      "2     5392696            1      3                NaN          No       8610   \n",
      "3     5392697            1      1                NaN          No       8424   \n",
      "4     5392699            1      1                NaN          No       2592   \n",
      "5     5392703            1      1                NaN          No       6820   \n",
      "6     5392707            1      1                NaN          No       8544   \n",
      "7     5392708            1      3                NaN          No       4111   \n",
      "8     5392708            1      4                NaN          No       8220   \n",
      "9     5392852            1      1                NaN          No       8413   \n",
      "\n",
      "    Ingresos lugar  \n",
      "0  2000000.0  Área  \n",
      "1  2000000.0  Área  \n",
      "2  1700000.0  Área  \n",
      "3  2800000.0  Área  \n",
      "4   969526.0  Área  \n",
      "5  1300000.0  Área  \n",
      "6   908526.0  Área  \n",
      "7   908526.0  Área  \n",
      "8   908526.0  Área  \n",
      "9  3900000.0  Área  \n",
      "(200, 8)\n"
     ]
    },
    {
     "data": {
      "text/plain": [
       "140"
      ]
     },
     "execution_count": 25,
     "metadata": {},
     "output_type": "execute_result"
    }
   ],
   "source": [
    "# Append\n",
    "data_appended = ocupados_area.append(ocupados_cabecera)\n",
    "print(data_appended.head(10))\n",
    "print(data_appended.shape)\n",
    "data_appended['DIRECTORIO'].nunique()\n",
    "\n",
    "Stata:\n",
    "unique VAR1 \n",
    "codebook var1"
   ]
  },
  {
   "cell_type": "code",
   "execution_count": 26,
   "metadata": {},
   "outputs": [
    {
     "name": "stdout",
     "output_type": "stream",
     "text": [
      "    DIRECTORIO  SECUENCIA_P  ORDEN  Horas adicionales Cambia_trab  RAMA_CIIU  \\\n",
      "90     5392677            1      1                NaN          No       8551   \n",
      "91     5392679            1      3                NaN          S�       5511   \n",
      "92     5392681            1      1                NaN          No       4921   \n",
      "93     5392682            1      1                NaN          No       8010   \n",
      "94     5392683            1      3                NaN          No       3110   \n",
      "95     5392684            1      1                NaN          No       4711   \n",
      "96     5392685            1      1                NaN          No       8412   \n",
      "97     5392685            1      2                NaN          No       8412   \n",
      "98     5392686            1      1                NaN          No       8621   \n",
      "99     5392687            1      1                8.0          No       8010   \n",
      "\n",
      "     Ingresos     lugar  \n",
      "90  2000000.0  Cabecera  \n",
      "91   500000.0  Cabecera  \n",
      "92  1000000.0  Cabecera  \n",
      "93   908526.0  Cabecera  \n",
      "94   700000.0  Cabecera  \n",
      "95  1140000.0  Cabecera  \n",
      "96        NaN  Cabecera  \n",
      "97  2000000.0  Cabecera  \n",
      "98  4000000.0  Cabecera  \n",
      "99  1900000.0  Cabecera  \n"
     ]
    }
   ],
   "source": [
    "print(data_appended.tail(10))"
   ]
  },
  {
   "cell_type": "markdown",
   "metadata": {},
   "source": [
    "## 2. Join: relaciones múltiples"
   ]
  },
  {
   "cell_type": "code",
   "execution_count": 31,
   "metadata": {},
   "outputs": [
    {
     "name": "stdout",
     "output_type": "stream",
     "text": [
      "   DIRECTORIO  ORDEN    Sexo  Edad Pobre Leer\n",
      "0     5392695      1  Hombre    24    No   Sí\n",
      "1     5392695      2  Hombre    19   NaN   Sí\n",
      "2     5392696      1  Hombre    38    No   Sí\n",
      "3     5392696      2   Mujer    44   NaN   Sí\n",
      "4     5392696      3   Mujer    21   NaN   Sí\n",
      "5     5392696      4  Hombre    72   NaN   Sí\n",
      "6     5392697      1  Hombre    29    No   Sí\n",
      "7     5392697      2   Mujer    61   NaN   Sí\n",
      "8     5392697      3  Hombre    31   NaN   Sí\n",
      "9     5392698      1   Mujer    71    Si   Sí\n"
     ]
    },
    {
     "data": {
      "text/plain": [
       "34"
      ]
     },
     "execution_count": 31,
     "metadata": {},
     "output_type": "execute_result"
    }
   ],
   "source": [
    "# Definir las bases\n",
    "\n",
    "#Personas de la GEIH\n",
    "personas = pd.read_excel ('C:/Users/VEW0102/Universidad de los Andes/Alfredo Eleazar Orozco Quesada - Curso Programación para datos EdContinua/Clases/Implementación/Clase 10 - Unión de bases de datos\\GEIH_personas.xls')\n",
    "print(personas.head(10))\n",
    "personas['DIRECTORIO'].nunique()"
   ]
  },
  {
   "cell_type": "code",
   "execution_count": 30,
   "metadata": {},
   "outputs": [
    {
     "name": "stdout",
     "output_type": "stream",
     "text": [
      "   DIRECTORIO  Num_cuartos Nevera  Num_personas Acueducto\n",
      "0     5392695            4     Sí             2        Sí\n",
      "1     5392696            4     Sí             4        No\n",
      "2     5392697            5     Sí             3        Sí\n",
      "3     5392698            3     Sí             2        No\n",
      "4     5392699            3     Sí             3        Sí\n",
      "5     5392700            3     Sí             1        Sí\n",
      "6     5392701            4     Sí             2        Sí\n",
      "7     5392702            2     No             2        Sí\n",
      "8     5392703            2     No             3        Sí\n",
      "9     5392705            3     Sí             3        No\n"
     ]
    },
    {
     "data": {
      "text/plain": [
       "100"
      ]
     },
     "execution_count": 30,
     "metadata": {},
     "output_type": "execute_result"
    }
   ],
   "source": [
    "#Viviendas de la GEIH\n",
    "viviendas = pd.read_excel ('C:/Users/VEW0102/Universidad de los Andes/Alfredo Eleazar Orozco Quesada - Curso Programación para datos EdContinua/Clases/Implementación/Clase 10 - Unión de bases de datos\\GEIH_viviendas.xls')\n",
    "print(viviendas.head(10))\n",
    "viviendas['DIRECTORIO'].nunique()"
   ]
  },
  {
   "cell_type": "markdown",
   "metadata": {},
   "source": [
    "### 2.1 Inner Join"
   ]
  },
  {
   "cell_type": "code",
   "execution_count": 33,
   "metadata": {},
   "outputs": [
    {
     "name": "stdout",
     "output_type": "stream",
     "text": [
      "   DIRECTORIO  Num_cuartos Nevera  Num_personas Acueducto  ORDEN    Sexo  \\\n",
      "0     5392695            4     Sí             2        Sí      1  Hombre   \n",
      "1     5392695            4     Sí             2        Sí      2  Hombre   \n",
      "2     5392696            4     Sí             4        No      1  Hombre   \n",
      "3     5392696            4     Sí             4        No      2   Mujer   \n",
      "4     5392696            4     Sí             4        No      3   Mujer   \n",
      "\n",
      "   Edad Pobre Leer  \n",
      "0    24    No   Sí  \n",
      "1    19   NaN   Sí  \n",
      "2    38    No   Sí  \n",
      "3    44   NaN   Sí  \n",
      "4    21   NaN   Sí  \n"
     ]
    },
    {
     "data": {
      "text/plain": [
       "34"
      ]
     },
     "execution_count": 33,
     "metadata": {},
     "output_type": "execute_result"
    }
   ],
   "source": [
    "#Inner Join\n",
    "inner = viviendas.merge(personas, on=\"DIRECTORIO\", how=\"inner\") ## default\n",
    "print(inner.head(5))\n",
    "inner['DIRECTORIO'].nunique()"
   ]
  },
  {
   "cell_type": "markdown",
   "metadata": {},
   "source": [
    "### 2.2 Left Join"
   ]
  },
  {
   "cell_type": "code",
   "execution_count": 79,
   "metadata": {},
   "outputs": [
    {
     "name": "stdout",
     "output_type": "stream",
     "text": [
      "   DIRECTORIO  Num_cuartos Nevera  Num_personas Acueducto  ORDEN    Sexo  \\\n",
      "0     5392695            4     Sí             2        Sí    1.0  Hombre   \n",
      "1     5392695            4     Sí             2        Sí    2.0  Hombre   \n",
      "2     5392696            4     Sí             4        No    1.0  Hombre   \n",
      "3     5392696            4     Sí             4        No    2.0   Mujer   \n",
      "4     5392696            4     Sí             4        No    3.0   Mujer   \n",
      "\n",
      "   Edad Pobre Leer  \n",
      "0  24.0    No   Sí  \n",
      "1  19.0   NaN   Sí  \n",
      "2  38.0    No   Sí  \n",
      "3  44.0   NaN   Sí  \n",
      "4  21.0   NaN   Sí  \n"
     ]
    },
    {
     "data": {
      "text/plain": [
       "100"
      ]
     },
     "execution_count": 79,
     "metadata": {},
     "output_type": "execute_result"
    }
   ],
   "source": [
    "#Left Join\n",
    "left = viviendas.merge(personas, on=\"DIRECTORIO\", how=\"left\")\n",
    "print(left.head(5))\n",
    "left['DIRECTORIO'].nunique()"
   ]
  },
  {
   "cell_type": "markdown",
   "metadata": {},
   "source": [
    "### 2.3 Right Join"
   ]
  },
  {
   "cell_type": "code",
   "execution_count": 34,
   "metadata": {},
   "outputs": [
    {
     "name": "stdout",
     "output_type": "stream",
     "text": [
      "   DIRECTORIO  Num_cuartos Nevera  Num_personas Acueducto  ORDEN    Sexo  \\\n",
      "0     5392695            4     Sí             2        Sí      1  Hombre   \n",
      "1     5392695            4     Sí             2        Sí      2  Hombre   \n",
      "2     5392696            4     Sí             4        No      1  Hombre   \n",
      "3     5392696            4     Sí             4        No      2   Mujer   \n",
      "4     5392696            4     Sí             4        No      3   Mujer   \n",
      "\n",
      "   Edad Pobre Leer  \n",
      "0    24    No   Sí  \n",
      "1    19   NaN   Sí  \n",
      "2    38    No   Sí  \n",
      "3    44   NaN   Sí  \n",
      "4    21   NaN   Sí  \n",
      "(100, 10)\n"
     ]
    },
    {
     "data": {
      "text/plain": [
       "34"
      ]
     },
     "execution_count": 34,
     "metadata": {},
     "output_type": "execute_result"
    }
   ],
   "source": [
    "#Right Join\n",
    "right = viviendas.merge(personas, on=\"DIRECTORIO\", how=\"right\")\n",
    "print(right.head(5))\n",
    "print(right.shape)\n",
    "right['DIRECTORIO'].nunique()"
   ]
  },
  {
   "cell_type": "markdown",
   "metadata": {},
   "source": [
    "### 2.4 Outer Join"
   ]
  },
  {
   "cell_type": "code",
   "execution_count": 99,
   "metadata": {},
   "outputs": [
    {
     "ename": "MergeError",
     "evalue": "Merge keys are not unique in right dataset; not a one-to-one merge",
     "output_type": "error",
     "traceback": [
      "\u001b[1;31m---------------------------------------------------------------------------\u001b[0m",
      "\u001b[1;31mMergeError\u001b[0m                                Traceback (most recent call last)",
      "\u001b[1;32m<ipython-input-99-443504e8c41b>\u001b[0m in \u001b[0;36m<module>\u001b[1;34m\u001b[0m\n\u001b[0;32m      1\u001b[0m \u001b[1;31m#Outer Join\u001b[0m\u001b[1;33m\u001b[0m\u001b[1;33m\u001b[0m\u001b[1;33m\u001b[0m\u001b[0m\n\u001b[1;32m----> 2\u001b[1;33m \u001b[0mouter\u001b[0m \u001b[1;33m=\u001b[0m \u001b[0mviviendas\u001b[0m\u001b[1;33m.\u001b[0m\u001b[0mmerge\u001b[0m\u001b[1;33m(\u001b[0m\u001b[0mpersonas\u001b[0m\u001b[1;33m,\u001b[0m \u001b[0mon\u001b[0m\u001b[1;33m=\u001b[0m\u001b[1;34m\"DIRECTORIO\"\u001b[0m\u001b[1;33m,\u001b[0m \u001b[0mhow\u001b[0m\u001b[1;33m=\u001b[0m\u001b[1;34m\"outer\"\u001b[0m\u001b[1;33m,\u001b[0m \u001b[0mvalidate\u001b[0m\u001b[1;33m=\u001b[0m\u001b[1;34m'one_to_one'\u001b[0m\u001b[1;33m)\u001b[0m\u001b[1;33m\u001b[0m\u001b[1;33m\u001b[0m\u001b[0m\n\u001b[0m\u001b[0;32m      3\u001b[0m \u001b[0mprint\u001b[0m\u001b[1;33m(\u001b[0m\u001b[0mouter\u001b[0m\u001b[1;33m.\u001b[0m\u001b[0mhead\u001b[0m\u001b[1;33m(\u001b[0m\u001b[1;36m5\u001b[0m\u001b[1;33m)\u001b[0m\u001b[1;33m)\u001b[0m\u001b[1;33m\u001b[0m\u001b[1;33m\u001b[0m\u001b[0m\n\u001b[0;32m      4\u001b[0m \u001b[0mouter\u001b[0m\u001b[1;33m[\u001b[0m\u001b[1;34m'DIRECTORIO'\u001b[0m\u001b[1;33m]\u001b[0m\u001b[1;33m.\u001b[0m\u001b[0mnunique\u001b[0m\u001b[1;33m(\u001b[0m\u001b[1;33m)\u001b[0m\u001b[1;33m\u001b[0m\u001b[1;33m\u001b[0m\u001b[0m\n",
      "\u001b[1;32mC:\\ProgramData\\Anaconda3\\lib\\site-packages\\pandas\\core\\frame.py\u001b[0m in \u001b[0;36mmerge\u001b[1;34m(self, right, how, on, left_on, right_on, left_index, right_index, sort, suffixes, copy, indicator, validate)\u001b[0m\n\u001b[0;32m   7332\u001b[0m             \u001b[0mcopy\u001b[0m\u001b[1;33m=\u001b[0m\u001b[0mcopy\u001b[0m\u001b[1;33m,\u001b[0m\u001b[1;33m\u001b[0m\u001b[1;33m\u001b[0m\u001b[0m\n\u001b[0;32m   7333\u001b[0m             \u001b[0mindicator\u001b[0m\u001b[1;33m=\u001b[0m\u001b[0mindicator\u001b[0m\u001b[1;33m,\u001b[0m\u001b[1;33m\u001b[0m\u001b[1;33m\u001b[0m\u001b[0m\n\u001b[1;32m-> 7334\u001b[1;33m             \u001b[0mvalidate\u001b[0m\u001b[1;33m=\u001b[0m\u001b[0mvalidate\u001b[0m\u001b[1;33m,\u001b[0m\u001b[1;33m\u001b[0m\u001b[1;33m\u001b[0m\u001b[0m\n\u001b[0m\u001b[0;32m   7335\u001b[0m         )\n\u001b[0;32m   7336\u001b[0m \u001b[1;33m\u001b[0m\u001b[0m\n",
      "\u001b[1;32mC:\\ProgramData\\Anaconda3\\lib\\site-packages\\pandas\\core\\reshape\\merge.py\u001b[0m in \u001b[0;36mmerge\u001b[1;34m(left, right, how, on, left_on, right_on, left_index, right_index, sort, suffixes, copy, indicator, validate)\u001b[0m\n\u001b[0;32m     79\u001b[0m         \u001b[0mcopy\u001b[0m\u001b[1;33m=\u001b[0m\u001b[0mcopy\u001b[0m\u001b[1;33m,\u001b[0m\u001b[1;33m\u001b[0m\u001b[1;33m\u001b[0m\u001b[0m\n\u001b[0;32m     80\u001b[0m         \u001b[0mindicator\u001b[0m\u001b[1;33m=\u001b[0m\u001b[0mindicator\u001b[0m\u001b[1;33m,\u001b[0m\u001b[1;33m\u001b[0m\u001b[1;33m\u001b[0m\u001b[0m\n\u001b[1;32m---> 81\u001b[1;33m         \u001b[0mvalidate\u001b[0m\u001b[1;33m=\u001b[0m\u001b[0mvalidate\u001b[0m\u001b[1;33m,\u001b[0m\u001b[1;33m\u001b[0m\u001b[1;33m\u001b[0m\u001b[0m\n\u001b[0m\u001b[0;32m     82\u001b[0m     )\n\u001b[0;32m     83\u001b[0m     \u001b[1;32mreturn\u001b[0m \u001b[0mop\u001b[0m\u001b[1;33m.\u001b[0m\u001b[0mget_result\u001b[0m\u001b[1;33m(\u001b[0m\u001b[1;33m)\u001b[0m\u001b[1;33m\u001b[0m\u001b[1;33m\u001b[0m\u001b[0m\n",
      "\u001b[1;32mC:\\ProgramData\\Anaconda3\\lib\\site-packages\\pandas\\core\\reshape\\merge.py\u001b[0m in \u001b[0;36m__init__\u001b[1;34m(self, left, right, how, on, left_on, right_on, axis, left_index, right_index, sort, suffixes, copy, indicator, validate)\u001b[0m\n\u001b[0;32m    634\u001b[0m         \u001b[1;31m# are in fact unique.\u001b[0m\u001b[1;33m\u001b[0m\u001b[1;33m\u001b[0m\u001b[1;33m\u001b[0m\u001b[0m\n\u001b[0;32m    635\u001b[0m         \u001b[1;32mif\u001b[0m \u001b[0mvalidate\u001b[0m \u001b[1;32mis\u001b[0m \u001b[1;32mnot\u001b[0m \u001b[1;32mNone\u001b[0m\u001b[1;33m:\u001b[0m\u001b[1;33m\u001b[0m\u001b[1;33m\u001b[0m\u001b[0m\n\u001b[1;32m--> 636\u001b[1;33m             \u001b[0mself\u001b[0m\u001b[1;33m.\u001b[0m\u001b[0m_validate\u001b[0m\u001b[1;33m(\u001b[0m\u001b[0mvalidate\u001b[0m\u001b[1;33m)\u001b[0m\u001b[1;33m\u001b[0m\u001b[1;33m\u001b[0m\u001b[0m\n\u001b[0m\u001b[0;32m    637\u001b[0m \u001b[1;33m\u001b[0m\u001b[0m\n\u001b[0;32m    638\u001b[0m     \u001b[1;32mdef\u001b[0m \u001b[0mget_result\u001b[0m\u001b[1;33m(\u001b[0m\u001b[0mself\u001b[0m\u001b[1;33m)\u001b[0m\u001b[1;33m:\u001b[0m\u001b[1;33m\u001b[0m\u001b[1;33m\u001b[0m\u001b[0m\n",
      "\u001b[1;32mC:\\ProgramData\\Anaconda3\\lib\\site-packages\\pandas\\core\\reshape\\merge.py\u001b[0m in \u001b[0;36m_validate\u001b[1;34m(self, validate)\u001b[0m\n\u001b[0;32m   1251\u001b[0m             \u001b[1;32melif\u001b[0m \u001b[1;32mnot\u001b[0m \u001b[0mright_unique\u001b[0m\u001b[1;33m:\u001b[0m\u001b[1;33m\u001b[0m\u001b[1;33m\u001b[0m\u001b[0m\n\u001b[0;32m   1252\u001b[0m                 raise MergeError(\n\u001b[1;32m-> 1253\u001b[1;33m                     \u001b[1;34m\"Merge keys are not unique in right dataset;\"\u001b[0m\u001b[1;33m\u001b[0m\u001b[1;33m\u001b[0m\u001b[0m\n\u001b[0m\u001b[0;32m   1254\u001b[0m                     \u001b[1;34m\" not a one-to-one merge\"\u001b[0m\u001b[1;33m\u001b[0m\u001b[1;33m\u001b[0m\u001b[0m\n\u001b[0;32m   1255\u001b[0m                 )\n",
      "\u001b[1;31mMergeError\u001b[0m: Merge keys are not unique in right dataset; not a one-to-one merge"
     ]
    }
   ],
   "source": [
    "#Outer Join\n",
    "outer = viviendas.merge(personas, on=\"DIRECTORIO\", how=\"outer\")\n",
    "print(outer.head(5))\n",
    "outer['DIRECTORIO'].nunique()"
   ]
  },
  {
   "cell_type": "markdown",
   "metadata": {},
   "source": [
    "## 3. Temas adicionales"
   ]
  },
  {
   "cell_type": "markdown",
   "metadata": {},
   "source": [
    "### 3.1 Múltiples uniones"
   ]
  },
  {
   "cell_type": "code",
   "execution_count": null,
   "metadata": {},
   "outputs": [],
   "source": [
    "multiple = df1.merge(df2, on=[\"key1\"]) \\ .merge(df3, on=[\"key2\"]) \\ .merge(df4, on=[\"key4\"]) \n",
    "print(multiple.head(5))"
   ]
  },
  {
   "cell_type": "markdown",
   "metadata": {},
   "source": [
    "### 3.2 Identificadores diferentes"
   ]
  },
  {
   "cell_type": "code",
   "execution_count": null,
   "metadata": {},
   "outputs": [],
   "source": [
    "llaves_dif = df1.merge(df2, left_on='DIREC', right_on='direc')"
   ]
  },
  {
   "cell_type": "markdown",
   "metadata": {},
   "source": [
    "### 3.3 Validaciones"
   ]
  },
  {
   "cell_type": "code",
   "execution_count": 37,
   "metadata": {},
   "outputs": [
    {
     "name": "stdout",
     "output_type": "stream",
     "text": [
      "   DIRECTORIO  Num_cuartos Nevera  Num_personas Acueducto  ORDEN    Sexo  \\\n",
      "0     5392695            4     Sí             2        Sí      1  Hombre   \n",
      "1     5392695            4     Sí             2        Sí      2  Hombre   \n",
      "2     5392696            4     Sí             4        No      1  Hombre   \n",
      "3     5392696            4     Sí             4        No      2   Mujer   \n",
      "4     5392696            4     Sí             4        No      3   Mujer   \n",
      "\n",
      "   Edad Pobre Leer  \n",
      "0    24    No   Sí  \n",
      "1    19   NaN   Sí  \n",
      "2    38    No   Sí  \n",
      "3    44   NaN   Sí  \n",
      "4    21   NaN   Sí  \n"
     ]
    }
   ],
   "source": [
    "GEIH_personas = pd.read_excel ('C:/Users/VEW0102/Universidad de los Andes/Alfredo Eleazar Orozco Quesada - Curso Programación para datos EdContinua/Clases/Implementación/Clase 10 - Unión de bases de datos\\GEIH_personas.xls')\n",
    "inner = viviendas.merge(GEIH_personas, validate='one_to_many') ## default\n",
    "print(inner.head(5))"
   ]
  },
  {
   "cell_type": "code",
   "execution_count": null,
   "metadata": {},
   "outputs": [],
   "source": []
  }
 ],
 "metadata": {
  "kernelspec": {
   "display_name": "Python 3",
   "language": "python",
   "name": "python3"
  },
  "language_info": {
   "codemirror_mode": {
    "name": "ipython",
    "version": 3
   },
   "file_extension": ".py",
   "mimetype": "text/x-python",
   "name": "python",
   "nbconvert_exporter": "python",
   "pygments_lexer": "ipython3",
   "version": "3.8.5"
  }
 },
 "nbformat": 4,
 "nbformat_minor": 4
}
