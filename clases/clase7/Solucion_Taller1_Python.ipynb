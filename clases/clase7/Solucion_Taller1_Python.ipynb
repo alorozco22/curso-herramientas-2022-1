{
  "metadata": {
    "language_info": {
      "codemirror_mode": {
        "name": "python",
        "version": 3
      },
      "file_extension": ".py",
      "mimetype": "text/x-python",
      "name": "python",
      "nbconvert_exporter": "python",
      "pygments_lexer": "ipython3",
      "version": "3.8"
    },
    "kernelspec": {
      "name": "python",
      "display_name": "Pyolite",
      "language": "python"
    }
  },
  "nbformat_minor": 4,
  "nbformat": 4,
  "cells": [
    {
      "cell_type": "code",
      "source": "########################################################\n# Herramientas de programación para el análisis de datos\n#Taller 1\n#2022-1\n########################################################",
      "metadata": {},
      "execution_count": null,
      "outputs": []
    },
    {
      "cell_type": "markdown",
      "source": "Punto 1",
      "metadata": {}
    },
    {
      "cell_type": "code",
      "source": "#a.\n(40*5)+17>23+45",
      "metadata": {
        "trusted": true
      },
      "execution_count": 38,
      "outputs": [
        {
          "execution_count": 38,
          "output_type": "execute_result",
          "data": {
            "text/plain": "True"
          },
          "metadata": {}
        }
      ]
    },
    {
      "cell_type": "code",
      "source": "#b.\n82/4+12<2**4+10",
      "metadata": {
        "trusted": true
      },
      "execution_count": 39,
      "outputs": [
        {
          "execution_count": 39,
          "output_type": "execute_result",
          "data": {
            "text/plain": "False"
          },
          "metadata": {}
        }
      ]
    },
    {
      "cell_type": "code",
      "source": "#c.\nimport numpy as np \nnp.log(2.718)**8>((2**4)-(5*3))",
      "metadata": {
        "trusted": true
      },
      "execution_count": 51,
      "outputs": [
        {
          "execution_count": 51,
          "output_type": "execute_result",
          "data": {
            "text/plain": "False"
          },
          "metadata": {}
        }
      ]
    },
    {
      "cell_type": "code",
      "source": "#d.\n(2**3 +12)-5 != (8*3)-9",
      "metadata": {
        "trusted": true
      },
      "execution_count": 52,
      "outputs": [
        {
          "execution_count": 52,
          "output_type": "execute_result",
          "data": {
            "text/plain": "False"
          },
          "metadata": {}
        }
      ]
    },
    {
      "cell_type": "code",
      "source": "#e.\n(3+2+7)>(5+6) & (18-2-3)<=(9+3+1)",
      "metadata": {
        "trusted": true
      },
      "execution_count": 53,
      "outputs": [
        {
          "execution_count": 53,
          "output_type": "execute_result",
          "data": {
            "text/plain": "True"
          },
          "metadata": {}
        }
      ]
    },
    {
      "cell_type": "markdown",
      "source": "Punto 2",
      "metadata": {}
    },
    {
      "cell_type": "code",
      "source": "mi_edad=20\nmi_edad_meses=mi_edad*12",
      "metadata": {
        "trusted": true
      },
      "execution_count": 54,
      "outputs": []
    },
    {
      "cell_type": "markdown",
      "source": "Punto 3",
      "metadata": {}
    },
    {
      "cell_type": "code",
      "source": "for i in range(2,15,2):\n   print(i)",
      "metadata": {
        "trusted": true
      },
      "execution_count": 57,
      "outputs": [
        {
          "name": "stdout",
          "text": "2\n4\n6\n8\n10\n12\n14\n",
          "output_type": "stream"
        }
      ]
    },
    {
      "cell_type": "markdown",
      "source": "Punto 4",
      "metadata": {}
    },
    {
      "cell_type": "code",
      "source": "x=0\nfor i in range(1,10,2):\n   x=x+i\nx",
      "metadata": {
        "trusted": true
      },
      "execution_count": 128,
      "outputs": [
        {
          "execution_count": 128,
          "output_type": "execute_result",
          "data": {
            "text/plain": "25"
          },
          "metadata": {}
        }
      ]
    },
    {
      "cell_type": "markdown",
      "source": "Punto 5",
      "metadata": {
        "tags": []
      }
    },
    {
      "cell_type": "code",
      "source": "Mat=[[10,2,2],[1,1,1]]",
      "metadata": {
        "trusted": true
      },
      "execution_count": 214,
      "outputs": []
    },
    {
      "cell_type": "code",
      "source": "rows = len(Mat)\ncolumns = len(Mat[0])\nsuma=0",
      "metadata": {
        "trusted": true
      },
      "execution_count": 215,
      "outputs": []
    },
    {
      "cell_type": "code",
      "source": "for i in range(0,rows):\n    for j in range(0,columns):\n        suma=suma+Mat[i][j]",
      "metadata": {
        "trusted": true
      },
      "execution_count": 216,
      "outputs": []
    },
    {
      "cell_type": "code",
      "source": "print(suma)",
      "metadata": {
        "trusted": true
      },
      "execution_count": 217,
      "outputs": [
        {
          "name": "stdout",
          "text": "17\n",
          "output_type": "stream"
        }
      ]
    },
    {
      "cell_type": "markdown",
      "source": "Punto 6",
      "metadata": {}
    },
    {
      "cell_type": "code",
      "source": "limite=3.0\nnotas=(2.8, 3.5, 2.9, 4.3, 1.5)",
      "metadata": {
        "trusted": true
      },
      "execution_count": 112,
      "outputs": []
    },
    {
      "cell_type": "code",
      "source": "for i in notas:\n   if i>limite:\n    print(\"pasaría\")  \n   else:\n    print(\"no pasaría\")",
      "metadata": {
        "trusted": true
      },
      "execution_count": 115,
      "outputs": [
        {
          "name": "stdout",
          "text": "no pasaría\npasaría\nno pasaría\npasaría\nno pasaría\n",
          "output_type": "stream"
        }
      ]
    },
    {
      "cell_type": "markdown",
      "source": "Punto 7",
      "metadata": {}
    },
    {
      "cell_type": "code",
      "source": "vector=(2.8, 3.5, 2.9, 4.3, 1.5)\nimport statistics\nmediana=statistics.median(vector)",
      "metadata": {
        "trusted": true
      },
      "execution_count": 120,
      "outputs": []
    },
    {
      "cell_type": "code",
      "source": "for i in vector:\n   if i<=mediana:\n    print(i)  \n   else:\n    print()",
      "metadata": {
        "trusted": true
      },
      "execution_count": 122,
      "outputs": [
        {
          "name": "stdout",
          "text": "2.8\n\n2.9\n\n1.5\n",
          "output_type": "stream"
        }
      ]
    },
    {
      "cell_type": "markdown",
      "source": "Punto 8",
      "metadata": {}
    },
    {
      "cell_type": "code",
      "source": "def area(lado):\n    a=lado*lado\n    return a",
      "metadata": {
        "trusted": true
      },
      "execution_count": 123,
      "outputs": []
    },
    {
      "cell_type": "code",
      "source": "#Ejemplo\narea(8)",
      "metadata": {
        "trusted": true
      },
      "execution_count": 124,
      "outputs": [
        {
          "execution_count": 124,
          "output_type": "execute_result",
          "data": {
            "text/plain": "64"
          },
          "metadata": {}
        }
      ]
    },
    {
      "cell_type": "markdown",
      "source": "Punto 9",
      "metadata": {}
    },
    {
      "cell_type": "code",
      "source": "import numpy as np\ndef tras(M):\n    a=np.transpose(M)\n    return a",
      "metadata": {
        "trusted": true
      },
      "execution_count": 128,
      "outputs": []
    },
    {
      "cell_type": "code",
      "source": "#Ejemplo\nM=[[1,2,3],[3,4,6]]\ntras(M)",
      "metadata": {
        "trusted": true
      },
      "execution_count": 129,
      "outputs": []
    },
    {
      "cell_type": "code",
      "source": "",
      "metadata": {
        "trusted": true
      },
      "execution_count": 130,
      "outputs": [
        {
          "execution_count": 130,
          "output_type": "execute_result",
          "data": {
            "text/plain": "array([[1, 3],\n       [2, 4],\n       [3, 6]])"
          },
          "metadata": {}
        }
      ]
    }
  ]
}